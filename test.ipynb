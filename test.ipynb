{
 "cells": [
  {
   "cell_type": "code",
   "execution_count": null,
   "metadata": {},
   "outputs": [],
   "source": [
    "from simworld.citygen.function_call.city_function_call import CityFunctionCall\n",
    "from simworld.config import Config\n",
    "\n",
    "config = Config()\n",
    "\n",
    "i = 0\n",
    "road_num = 15\n",
    "while i < 5:\n",
    "    cfc = CityFunctionCall(config, seed=i, num_segments=road_num)\n",
    "    cfc.generate_road_network()\n",
    "    cfc.generate_building_alone_roads()\n",
    "    cfc.generate_element_alone_roads()\n",
    "    cfc.export_city(f'../output_test/road_{road_num}/map_{i}')\n",
    "    i += 1"
   ]
  },
  {
   "cell_type": "code",
   "execution_count": null,
   "metadata": {},
   "outputs": [],
   "source": [
    "cfc = CityFunctionCall(config)\n",
    "cfc.visualization('D:/Projects/SimWorld/output_test/road_15/map_0')"
   ]
  }
 ],
 "metadata": {
  "kernelspec": {
   "display_name": "unreal",
   "language": "python",
   "name": "python3"
  },
  "language_info": {
   "codemirror_mode": {
    "name": "ipython",
    "version": 3
   },
   "file_extension": ".py",
   "mimetype": "text/x-python",
   "name": "python",
   "nbconvert_exporter": "python",
   "pygments_lexer": "ipython3",
   "version": "3.10.16"
  }
 },
 "nbformat": 4,
 "nbformat_minor": 2
}
