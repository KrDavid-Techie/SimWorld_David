{
 "cells": [
  {
   "cell_type": "code",
   "execution_count": 1,
   "id": "83a656d3",
   "metadata": {},
   "outputs": [],
   "source": [
    "### Asset RP Test\n",
    "# This script is used to test the asset retrieval and placement. You can use natural language to retrieve and place assets.\n",
    "# This script will only generate json file, you need to use `world_generation.ipynb` to generate the world."
   ]
  },
  {
   "cell_type": "code",
   "execution_count": null,
   "id": "43e8b79e",
   "metadata": {},
   "outputs": [],
   "source": [
    "# You can skip this if you already have the generated city\n",
    "import sys\n",
    "from pathlib import Path\n",
    "sys.path.append(str(Path().resolve().parent))\n",
    "from simworld.citygen.function_call.city_function_call import CityFunctionCall\n",
    "from simworld.config.config_loader import Config\n",
    "config = Config()\n",
    "cfg = CityFunctionCall(config)"
   ]
  },
  {
   "cell_type": "code",
   "execution_count": null,
   "metadata": {},
   "outputs": [],
   "source": [
    "# You can skip this if you already have the generated city\n",
    "cfg.generate_city()\n",
    "cfg.export_city()"
   ]
  },
  {
   "cell_type": "code",
   "execution_count": null,
   "id": "827e4a8d",
   "metadata": {},
   "outputs": [],
   "source": [
    "import sys\n",
    "from pathlib import Path\n",
    "sys.path.append(str(Path().resolve().parent))\n",
    "from simworld.assets_rp.AssetsRP import AssetsRetrieverPlacer\n",
    "from simworld.config.config_loader import Config\n",
    "config = Config()\n",
    "arp = AssetsRetrieverPlacer(config, input_dir='D:/Projects/SimWorld/output')"
   ]
  },
  {
   "cell_type": "code",
   "execution_count": 2,
   "id": "73f256a3",
   "metadata": {},
   "outputs": [],
   "source": [
    "import os\n",
    "os.environ['OPENAI_API_KEY'] = '<your_api_key>'"
   ]
  },
  {
   "cell_type": "code",
   "execution_count": null,
   "id": "82338204",
   "metadata": {},
   "outputs": [],
   "source": [
    "from simworld.citygen.dataclass import Point\n",
    "arp.city_generator.route_generator.get_point_around_label(Point(-50, -50), arp.city_generator.city_quadtrees)"
   ]
  },
  {
   "cell_type": "code",
   "execution_count": null,
   "id": "60c5d9c7",
   "metadata": {},
   "outputs": [],
   "source": [
    "arp.generate_assets_manually(\"Please place a streetlight besides a high beige stone office building, with arched and rectangular upper windows.\")"
   ]
  }
 ],
 "metadata": {
  "kernelspec": {
   "display_name": "unreal",
   "language": "python",
   "name": "python3"
  },
  "language_info": {
   "codemirror_mode": {
    "name": "ipython",
    "version": 3
   },
   "file_extension": ".py",
   "mimetype": "text/x-python",
   "name": "python",
   "nbconvert_exporter": "python",
   "pygments_lexer": "ipython3",
   "version": "3.10.16"
  }
 },
 "nbformat": 4,
 "nbformat_minor": 5
}
