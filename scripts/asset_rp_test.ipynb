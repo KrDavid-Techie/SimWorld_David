{
 "cells": [
  {
   "cell_type": "code",
   "execution_count": 1,
   "id": "43e8b79e",
   "metadata": {},
   "outputs": [],
   "source": [
    "# You can skip this if you already have the generated city\n",
    "import sys\n",
    "from pathlib import Path\n",
    "sys.path.append(str(Path().resolve().parent))\n",
    "from simworld.citygen.function_call.city_function_call import CityFunctionCall\n",
    "from simworld.config.config_loader import Config\n",
    "config = Config()\n",
    "cfg = CityFunctionCall(config)"
   ]
  },
  {
   "cell_type": "code",
   "execution_count": null,
   "metadata": {},
   "outputs": [],
   "source": [
    "# You can skip this if you already have the generated city\n",
    "cfg.generate_city()\n",
    "cfg.export_city()"
   ]
  },
  {
   "cell_type": "code",
   "execution_count": null,
   "id": "827e4a8d",
   "metadata": {},
   "outputs": [],
   "source": [
    "import sys\n",
    "from pathlib import Path\n",
    "sys.path.append(str(Path().resolve().parent))\n",
    "from simworld.assets_rp.AssetsRP import AssetsRetrieverPlacer\n",
    "from simworld.config.config_loader import Config\n",
    "config = Config()\n",
    "arp = AssetsRetrieverPlacer(config)"
   ]
  },
  {
   "cell_type": "code",
   "execution_count": null,
   "id": "82338204",
   "metadata": {},
   "outputs": [],
   "source": [
    "from simworld.citygen.dataclass import Point\n",
    "arp.city_generator.route_generator.get_point_around_label(Point(-50, -50), arp.city_generator.city_quadtrees)"
   ]
  },
  {
   "cell_type": "code",
   "execution_count": null,
   "id": "60c5d9c7",
   "metadata": {},
   "outputs": [],
   "source": [
    "arp.generate_assets_manually(\"There are lots of trees, a scooter and two apartments here. Please place a streetlight besides this school.\")"
   ]
  }
 ],
 "metadata": {
  "kernelspec": {
   "display_name": "unreal",
   "language": "python",
   "name": "python3"
  },
  "language_info": {
   "codemirror_mode": {
    "name": "ipython",
    "version": 3
   },
   "file_extension": ".py",
   "mimetype": "text/x-python",
   "name": "python",
   "nbconvert_exporter": "python",
   "pygments_lexer": "ipython3",
   "version": "3.10.16"
  }
 },
 "nbformat": 4,
 "nbformat_minor": 5
}
