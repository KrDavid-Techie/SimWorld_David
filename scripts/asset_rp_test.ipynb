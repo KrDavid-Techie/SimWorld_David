{
 "cells": [
  {
   "cell_type": "code",
   "execution_count": 1,
   "id": "43e8b79e",
   "metadata": {},
   "outputs": [],
   "source": [
    "import sys\n",
    "from pathlib import Path\n",
    "sys.path.append(str(Path().resolve().parent))\n",
    "from simworld.citygen.function_call.city_function_call import CityFunctionCall\n",
    "from simworld.config.config_loader import Config\n",
    "config = Config()\n",
    "cfg = CityFunctionCall(config)"
   ]
  },
  {
   "cell_type": "code",
   "execution_count": 2,
   "metadata": {},
   "outputs": [
    {
     "name": "stdout",
     "output_type": "stream",
     "text": [
      "Generating roads randomly\n"
     ]
    }
   ],
   "source": [
    "cfg.generate_city()"
   ]
  },
  {
   "cell_type": "code",
   "execution_count": 3,
   "id": "df54004e",
   "metadata": {},
   "outputs": [],
   "source": [
    "cfg.export_city(\"/home/xuhong_he/SimWorld/output\")"
   ]
  },
  {
   "cell_type": "code",
   "execution_count": null,
   "id": "45714635",
   "metadata": {},
   "outputs": [],
   "source": []
  },
  {
   "cell_type": "code",
   "execution_count": 4,
   "id": "827e4a8d",
   "metadata": {},
   "outputs": [
    {
     "name": "stderr",
     "output_type": "stream",
     "text": [
      "/home/xuhong_he/miniconda3/lib/python3.12/site-packages/transformers/utils/hub.py:128: FutureWarning: Using `TRANSFORMERS_CACHE` is deprecated and will be removed in v5 of Transformers. Use `HF_HOME` instead.\n",
      "  warnings.warn(\n",
      "2025-04-16 01:50:57.237509: E external/local_xla/xla/stream_executor/cuda/cuda_fft.cc:477] Unable to register cuFFT factory: Attempting to register factory for plugin cuFFT when one has already been registered\n",
      "WARNING: All log messages before absl::InitializeLog() is called are written to STDERR\n",
      "E0000 00:00:1744768257.249582 1220391 cuda_dnn.cc:8310] Unable to register cuDNN factory: Attempting to register factory for plugin cuDNN when one has already been registered\n",
      "E0000 00:00:1744768257.253287 1220391 cuda_blas.cc:1418] Unable to register cuBLAS factory: Attempting to register factory for plugin cuBLAS when one has already been registered\n",
      "2025-04-16 01:50:57.267173: I tensorflow/core/platform/cpu_feature_guard.cc:210] This TensorFlow binary is optimized to use available CPU instructions in performance-critical operations.\n",
      "To enable the following instructions: AVX2 FMA, in other operations, rebuild TensorFlow with the appropriate compiler flags.\n"
     ]
    },
    {
     "name": "stdout",
     "output_type": "stream",
     "text": [
      "Importing city data from /home/xuhong_he/SimWorld/output/progen_world.json\n",
      "Import completed successfully\n",
      "Imported road segments: 5\n",
      "Imported buildings: 40\n",
      "Imported elements: 245\n"
     ]
    }
   ],
   "source": [
    "import sys\n",
    "from pathlib import Path\n",
    "sys.path.append(str(Path().resolve().parent))\n",
    "from simworld.assets_rp.AssetsRP import AssetsRetrieverPlacer\n",
    "from simworld.config.config_loader import Config\n",
    "config = Config()\n",
    "arp = AssetsRetrieverPlacer(config)"
   ]
  },
  {
   "cell_type": "code",
   "execution_count": 5,
   "id": "82338204",
   "metadata": {},
   "outputs": [
    {
     "data": {
      "text/plain": [
       "{'element_stats': {'BP_Tree3_C': 1,\n",
       "  'BP_Trash_can_C': 2,\n",
       "  'BP_Hydrant_C': 1,\n",
       "  'BP_Soda4_C': 1},\n",
       " 'building_stats': {'BP_Hospital_C': 'East', 'BP_Building_01_C': 'West'}}"
      ]
     },
     "execution_count": 5,
     "metadata": {},
     "output_type": "execute_result"
    }
   ],
   "source": [
    "from simworld.citygen.dataclass import Point\n",
    "arp.city_generator.route_generator.get_point_around_label(Point(-50, -50), arp.city_generator.city_quadtrees)"
   ]
  },
  {
   "cell_type": "code",
   "execution_count": 6,
   "id": "60c5d9c7",
   "metadata": {},
   "outputs": [
    {
     "name": "stdout",
     "output_type": "stream",
     "text": [
      "LLM Response: {\n",
      "    \"asset_to_place\": [ \"streetlight\" ],\n",
      "    \"reference_asset\": \"school\",\n",
      "    \"relation\": \"besides\",\n",
      "    \"surrounding_assets\": \"There are lots of trees, a scooter and two apartments here.\"\n",
      "}\n",
      "LLM parse result: {'asset_to_place': ['streetlight'], 'reference_asset': 'school', 'relation': 'besides', 'surrounding_assets': 'There are lots of trees, a scooter and two apartments here.'}\n"
     ]
    },
    {
     "data": {
      "application/vnd.jupyter.widget-view+json": {
       "model_id": "799fb416ceb4434fa3578ee2bad02f4b",
       "version_major": 2,
       "version_minor": 0
      },
      "text/plain": [
       "Batches:   0%|          | 0/10 [00:00<?, ?it/s]"
      ]
     },
     "metadata": {},
     "output_type": "display_data"
    },
    {
     "name": "stdout",
     "output_type": "stream",
     "text": [
      "{'element_stats': {'BP_Soda2_C': 2, 'BP_Tree6_C': 1, 'BP_Tree3_C': 2, 'BP_Tree2_C': 4, 'BP_Tree4_C': 1, 'BP_Tree1_C': 3, 'BP_Box3_C': 1, 'BP_Trash_can_C': 2, 'BP_Hydrant_C': 2, 'BP_Soda4_C': 1, 'BP_Table2_C': 1}, 'building_stats': {'BP_Building_01_C': 'West', 'BP_Building_21_C': 'West', 'BP_Building_15_C': 'SouthWest', 'BP_Building_08_C': 'SouthWest', 'BP_Hospital_C': 'South', 'BP_Building_20_C': 'West'}}\n",
      "BP_Soda2_C, BP_Soda2_C, BP_Tree6_C, BP_Tree3_C, BP_Tree3_C, BP_Tree2_C, BP_Tree2_C, BP_Tree2_C, BP_Tree2_C, BP_Tree4_C, BP_Tree1_C, BP_Tree1_C, BP_Tree1_C, BP_Box3_C, BP_Trash_can_C, BP_Trash_can_C, BP_Hydrant_C, BP_Hydrant_C, BP_Soda4_C, BP_Table2_C, Normal apartment, gray roof, Super tall, black skyscraper, Tall, modern apartment skyscraper, White, tall, spire, skyscraper, Hospital, the sign 'CENTRAL HOSPITAL'., White, tall, landmark tower\n",
      "candidate nodes: GEN_BP_School_C_9 similarity score: 0.2339\n",
      "best candidate: GEN_BP_School_C_9 similarity score: 0.23385789\n",
      "{\n",
      "  \"nodes\": [\n",
      "    {\n",
      "      \"id\": \"BP_GEN_SM_street_light_0\",\n",
      "      \"instance_name\": \"SM_street_light_C\",\n",
      "      \"properties\": {\n",
      "        \"location\": {\n",
      "          \"x\": 125.49113363162239,\n",
      "          \"y\": 86.87103017859509,\n",
      "          \"z\": 0\n",
      "        },\n",
      "        \"orientation\": {\n",
      "          \"pitch\": 0,\n",
      "          \"yaw\": 94.82,\n",
      "          \"roll\": 0\n",
      "        },\n",
      "        \"scale\": {\n",
      "          \"x\": 1.0,\n",
      "          \"y\": 0.87,\n",
      "          \"z\": 1.0\n",
      "        }\n",
      "      }\n",
      "    }\n",
      "  ]\n",
      "}\n"
     ]
    }
   ],
   "source": [
    "arp.generate_assets_manually(\"There are lots of trees, a scooter and two apartments here. Please place a streetlight besides this school.\")"
   ]
  },
  {
   "cell_type": "code",
   "execution_count": null,
   "id": "8139d6b0",
   "metadata": {},
   "outputs": [],
   "source": []
  }
 ],
 "metadata": {
  "kernelspec": {
   "display_name": "base",
   "language": "python",
   "name": "python3"
  },
  "language_info": {
   "codemirror_mode": {
    "name": "ipython",
    "version": 3
   },
   "file_extension": ".py",
   "mimetype": "text/x-python",
   "name": "python",
   "nbconvert_exporter": "python",
   "pygments_lexer": "ipython3",
   "version": "3.12.2"
  }
 },
 "nbformat": 4,
 "nbformat_minor": 5
}
