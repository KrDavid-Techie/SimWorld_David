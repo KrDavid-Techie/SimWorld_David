{
 "cells": [
  {
   "cell_type": "code",
   "execution_count": null,
   "metadata": {},
   "outputs": [],
   "source": [
    "### UE Command Test\n",
    "# This script is used to test the UE command"
   ]
  },
  {
   "cell_type": "code",
   "execution_count": null,
   "metadata": {},
   "outputs": [],
   "source": [
    "import sys\n",
    "from pathlib import Path\n",
    "sys.path.append(str(Path().resolve().parent))\n",
    "from simworld.communicator.unrealcv import UnrealCV\n",
    "from simworld.communicator.communicator import Communicator\n",
    "from simworld.agent.humanoid import Humanoid\n",
    "from simworld.agent.scooter import Scooter\n",
    "from simworld.utils.vector import Vector"
   ]
  },
  {
   "cell_type": "code",
   "execution_count": null,
   "metadata": {},
   "outputs": [],
   "source": [
    "# Play in UE first\n",
    "ucv = UnrealCV()\n",
    "communicator = Communicator(ucv)"
   ]
  },
  {
   "cell_type": "code",
   "execution_count": null,
   "metadata": {},
   "outputs": [],
   "source": [
    "ucv.get_objects()"
   ]
  },
  {
   "cell_type": "markdown",
   "metadata": {},
   "source": [
    "## Camera test"
   ]
  },
  {
   "cell_type": "code",
   "execution_count": null,
   "metadata": {},
   "outputs": [],
   "source": [
    "ucv.get_cameras()"
   ]
  },
  {
   "cell_type": "code",
   "execution_count": null,
   "metadata": {},
   "outputs": [],
   "source": [
    "print(ucv.get_camera_location(1))\n",
    "print(ucv.get_camera_rotation(1))\n",
    "print(ucv.get_camera_fov(1))\n",
    "print(ucv.get_camera_resolution(1))\n",
    "ucv.show_img(ucv.get_image(1, 'lit'))"
   ]
  },
  {
   "cell_type": "code",
   "execution_count": 10,
   "metadata": {},
   "outputs": [],
   "source": [
    "ucv.set_camera_location(1, (0, 0, 0))\n",
    "ucv.set_camera_rotation(1, (0, 0, 0))\n",
    "ucv.set_camera_fov(1, 90)\n",
    "ucv.set_camera_resolution(1, (320, 240))"
   ]
  },
  {
   "cell_type": "code",
   "execution_count": null,
   "metadata": {},
   "outputs": [],
   "source": [
    "print(ucv.get_camera_location(1))\n",
    "print(ucv.get_camera_rotation(1))\n",
    "print(ucv.get_camera_fov(1))\n",
    "print(ucv.get_camera_resolution(1))\n",
    "ucv.show_img(ucv.get_image(1, 'lit'))"
   ]
  },
  {
   "cell_type": "code",
   "execution_count": null,
   "metadata": {},
   "outputs": [],
   "source": [
    "ucv.show_img(ucv.get_image(2, 'depth'))"
   ]
  },
  {
   "cell_type": "markdown",
   "metadata": {},
   "source": [
    "## Action test"
   ]
  },
  {
   "cell_type": "markdown",
   "metadata": {},
   "source": [
    "### Robot dog test"
   ]
  },
  {
   "cell_type": "markdown",
   "metadata": {},
   "source": [
    "#### Spwan a robot dog"
   ]
  },
  {
   "cell_type": "code",
   "execution_count": 9,
   "metadata": {},
   "outputs": [],
   "source": [
    "robot_dog_name = \"Demo_Robot\"\n",
    "robot_dog_asset = \"/Game/Robot_Dog/Blueprint/BP_SpotRobot.BP_SpotRobot_C\"\n",
    "ucv.spawn_bp_asset(robot_dog_asset, robot_dog_name)\n",
    "ucv.enable_controller(robot_dog_name, True)\n"
   ]
  },
  {
   "cell_type": "markdown",
   "metadata": {},
   "source": [
    "#### Look up"
   ]
  },
  {
   "cell_type": "code",
   "execution_count": null,
   "metadata": {},
   "outputs": [],
   "source": [
    "ucv.dog_look_up(robot_dog_name)\n"
   ]
  },
  {
   "cell_type": "markdown",
   "metadata": {},
   "source": [
    "#### look down"
   ]
  },
  {
   "cell_type": "code",
   "execution_count": 6,
   "metadata": {},
   "outputs": [],
   "source": [
    "ucv.dog_look_down(robot_dog_name)"
   ]
  },
  {
   "cell_type": "markdown",
   "metadata": {},
   "source": [
    "#### transition"
   ]
  },
  {
   "cell_type": "code",
   "execution_count": 7,
   "metadata": {},
   "outputs": [],
   "source": [
    "import time\n",
    "#### Move forward\n",
    "speed = 200\n",
    "duration = 1\n",
    "direction = 0\n",
    "move_parameter = [speed, duration, direction]\n",
    "ucv.dog_move(robot_dog_name, move_parameter)\n",
    "time.sleep(duration)\n",
    "\n",
    "#### Move backward\n",
    "direction = 1\n",
    "move_parameter = [speed, duration, direction]\n",
    "ucv.dog_move(robot_dog_name, move_parameter)\n",
    "time.sleep(duration)\n",
    "\n",
    "#### Move left\n",
    "direction = 2\n",
    "move_parameter = [speed, duration, direction]\n",
    "ucv.dog_move(robot_dog_name, move_parameter)\n",
    "time.sleep(duration)\n",
    "\n",
    "#### Move right\n",
    "direction = 3\n",
    "move_parameter = [speed, duration, direction]\n",
    "ucv.dog_move(robot_dog_name, move_parameter)\n",
    "time.sleep(duration)"
   ]
  },
  {
   "cell_type": "markdown",
   "metadata": {},
   "source": [
    "#### rotation"
   ]
  },
  {
   "cell_type": "code",
   "execution_count": 14,
   "metadata": {},
   "outputs": [],
   "source": [
    "#### Turn right\n",
    "angle = 90\n",
    "duration = 0.7\n",
    "clockwise = 1\n",
    "rotate_parameter = [duration, angle, clockwise]\n",
    "ucv.dog_rotate(robot_dog_name, rotate_parameter)\n",
    "time.sleep(duration)\n",
    "\n",
    "#### Turn left\n",
    "angle = -90\n",
    "counter_clockwise = -1\n",
    "rotate_parameter = [duration, angle, counter_clockwise]\n",
    "ucv.dog_rotate(robot_dog_name, rotate_parameter)\n",
    "time.sleep(duration)\n"
   ]
  },
  {
   "cell_type": "markdown",
   "metadata": {},
   "source": [
    "#### destory"
   ]
  },
  {
   "cell_type": "code",
   "execution_count": 15,
   "metadata": {},
   "outputs": [],
   "source": [
    "ucv.destroy(robot_dog_name)"
   ]
  },
  {
   "cell_type": "markdown",
   "metadata": {},
   "source": [
    "### Humanoid avatar test "
   ]
  },
  {
   "cell_type": "markdown",
   "metadata": {},
   "source": [
    "#### Spwan humanoid"
   ]
  },
  {
   "cell_type": "code",
   "execution_count": 21,
   "metadata": {},
   "outputs": [],
   "source": [
    "default_humanoid_name = \"Demo_Humanoid\"\n",
    "default_humanoid_asset = \"/Game/Human_Avatar/DefaultCharacter/Blueprint/BP_Default_Character.BP_Default_Character_C\"\n",
    "ucv.spawn_bp_asset(default_humanoid_asset, default_humanoid_name)\n",
    "ucv.set_location((200,-100,100), default_humanoid_name)\n",
    "ucv.set_orientation((0,180,0), default_humanoid_name)\n",
    "ucv.enable_controller(default_humanoid_name, True)\n",
    "\n",
    "# all the real human avatar are spawned with different outlooks\n",
    "real_human_name_1 = \"Demo_Real_Human_1\"\n",
    "real_human_asset = '/Game/TrafficSystem/Pedestrian/Base_Pedestrian.Base_Pedestrian_C'\n",
    "ucv.spawn_bp_asset(real_human_asset, real_human_name_1)\n",
    "ucv.set_location((200,0,100), real_human_name_1)\n",
    "ucv.set_orientation((0,180,0), real_human_name_1)\n",
    "ucv.enable_controller(real_human_name_1, True)\n",
    "\n",
    "real_human_name_2 = \"Demo_Real_Human_2\"\n",
    "real_human_asset = '/Game/TrafficSystem/Pedestrian/Base_Pedestrian.Base_Pedestrian_C'\n",
    "ucv.spawn_bp_asset(real_human_asset, real_human_name_2)\n",
    "ucv.set_location((200,100,100), real_human_name_2)\n",
    "ucv.set_orientation((0,180,0), real_human_name_2)\n",
    "ucv.enable_controller(real_human_name_2, True)\n"
   ]
  },
  {
   "cell_type": "markdown",
   "metadata": {},
   "source": [
    "#### Interaction"
   ]
  },
  {
   "cell_type": "code",
   "execution_count": null,
   "metadata": {},
   "outputs": [],
   "source": [
    "ucv.get_objects()"
   ]
  },
  {
   "cell_type": "code",
   "execution_count": null,
   "metadata": {},
   "outputs": [],
   "source": [
    "human_id = \"Base_User_Agent_C_3\"\n",
    "# Sit down and stand up\n",
    "ucv.humanoid_sit_down(human_id)\n",
    "ucv.humanoid_stand_up(human_id)\n"
   ]
  },
  {
   "cell_type": "code",
   "execution_count": 10,
   "metadata": {},
   "outputs": [],
   "source": [
    "import time\n",
    "# arguing\n",
    "ucv.humanoid_argue(human_id, 0)\n",
    "# discuss\n",
    "ucv.humanoid_discuss(human_id, 0)\n",
    "# discuss\n",
    "ucv.humanoid_listen(human_id)\n",
    "# directing\n",
    "ucv.humanoid_directing_path(human_id)\n",
    "# directing\n",
    "ucv.humanoid_wave_to_dog(human_id)\n",
    "# stop action that will last forever\n",
    "ucv.humanoid_stop_current_action(human_id)"
   ]
  },
  {
   "cell_type": "code",
   "execution_count": 28,
   "metadata": {},
   "outputs": [],
   "source": [
    "# pick up light object\n",
    "ucv.humanoid_pick_up_object(human_id, \"BP_Mug_C_1\")\n",
    "time.sleep(2)\n",
    "# drop off object\n",
    "ucv.humanoid_drop_object(human_id)\n",
    "time.sleep(2)\n",
    "# pick up heavy object\n",
    "ucv.humanoid_pick_up_object(human_id, \"BP_Interactable_Box_C_1\")\n",
    "time.sleep(4)\n",
    "# drop off object\n",
    "ucv.humanoid_drop_object(human_id)\n",
    "time.sleep(2)"
   ]
  },
  {
   "cell_type": "code",
   "execution_count": 7,
   "metadata": {},
   "outputs": [],
   "source": [
    "import time\n",
    "# enter vehicle\n",
    "ucv.humanoid_enter_vehicle(human_id, \"BP_VehicleBase_Destruction_C_1\")\n",
    "time.sleep(5)\n",
    "# exit vehicle\n",
    "ucv.humanoid_exit_vehicle(human_id, \"BP_VehicleBase_Destruction_C_1\")\n",
    "time.sleep(5)"
   ]
  },
  {
   "cell_type": "markdown",
   "metadata": {},
   "source": [
    "#### Scooter"
   ]
  },
  {
   "cell_type": "code",
   "execution_count": null,
   "metadata": {},
   "outputs": [],
   "source": [
    "agent_path = '/Game/TrafficSystem/Pedestrian/Base_User_Agent.Base_User_Agent_C'\n",
    "scooter_path = '/Game/ScooterAssets/Blueprints/BP_Scooter_Pawn.BP_Scooter_Pawn_C'"
   ]
  },
  {
   "cell_type": "code",
   "execution_count": null,
   "metadata": {},
   "outputs": [],
   "source": [
    "agent = Humanoid(Vector(0, 0), Vector(0, 1))\n",
    "scooter = Scooter(Vector(100, 0), Vector(0, 1))"
   ]
  },
  {
   "cell_type": "code",
   "execution_count": null,
   "metadata": {},
   "outputs": [],
   "source": [
    "communicator.spawn_agent(agent, agent_path)\n",
    "communicator.spawn_scooter(scooter, scooter_path)"
   ]
  },
  {
   "cell_type": "code",
   "execution_count": null,
   "metadata": {},
   "outputs": [],
   "source": [
    "communicator.humanoid_get_on_scooter(agent.id)\n",
    "agent.scooter_id = scooter.id"
   ]
  },
  {
   "cell_type": "code",
   "execution_count": null,
   "metadata": {},
   "outputs": [],
   "source": [
    "communicator.set_scooter_attributes(agent.scooter_id, 0, 0, 0)"
   ]
  },
  {
   "cell_type": "code",
   "execution_count": null,
   "metadata": {},
   "outputs": [],
   "source": [
    "communicator.humanoid_get_off_scooter(agent.id, scooter.id)"
   ]
  },
  {
   "cell_type": "code",
   "execution_count": null,
   "metadata": {},
   "outputs": [],
   "source": [
    "communicator.humanoid_step_forward(agent.id, 2)"
   ]
  },
  {
   "cell_type": "code",
   "execution_count": null,
   "metadata": {},
   "outputs": [],
   "source": [
    "communicator.humanoid_rotate(agent.id, 90, 'left')"
   ]
  }
 ],
 "metadata": {
  "kernelspec": {
   "display_name": "unreal",
   "language": "python",
   "name": "python3"
  },
  "language_info": {
   "codemirror_mode": {
    "name": "ipython",
    "version": 3
   },
   "file_extension": ".py",
   "mimetype": "text/x-python",
   "name": "python",
   "nbconvert_exporter": "python",
   "pygments_lexer": "ipython3",
   "version": "3.10.16"
  }
 },
 "nbformat": 4,
 "nbformat_minor": 2
}
