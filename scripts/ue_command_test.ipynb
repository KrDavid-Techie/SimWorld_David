{
 "cells": [
  {
   "cell_type": "code",
   "execution_count": 1,
   "metadata": {},
   "outputs": [],
   "source": [
    "### UE Command Test\n",
    "# This script is used to test the UE command"
   ]
  },
  {
   "cell_type": "code",
   "execution_count": null,
   "metadata": {},
   "outputs": [],
   "source": [
    "import sys\n",
    "from pathlib import Path\n",
    "sys.path.append(str(Path().resolve().parent))\n",
    "from simworld.communicator.unrealcv import UnrealCV\n",
    "from simworld.communicator.communicator import Communicator\n",
    "from simworld.agent.humanoid import Humanoid\n",
    "from simworld.agent.scooter import Scooter\n",
    "from simworld.utils.vector import Vector"
   ]
  },
  {
   "cell_type": "code",
   "execution_count": null,
   "metadata": {},
   "outputs": [],
   "source": [
    "# Play in UE first\n",
    "ucv = UnrealCV()\n",
    "communicator = Communicator(ucv)"
   ]
  },
  {
   "cell_type": "code",
   "execution_count": null,
   "metadata": {},
   "outputs": [],
   "source": [
    "ucv.get_objects()"
   ]
  },
  {
   "cell_type": "markdown",
   "metadata": {},
   "source": [
    "## Agent Test"
   ]
  },
  {
   "cell_type": "code",
   "execution_count": 3,
   "metadata": {},
   "outputs": [],
   "source": [
    "agent_path = '/Game/TrafficSystem/Pedestrian/Base_User_Agent.Base_User_Agent_C'\n",
    "scooter_path = '/Game/ScooterAssets/Blueprints/BP_Scooter_Pawn.BP_Scooter_Pawn_C'"
   ]
  },
  {
   "cell_type": "code",
   "execution_count": 4,
   "metadata": {},
   "outputs": [],
   "source": [
    "agent = Humanoid(Vector(0, 0), Vector(0, 1))\n",
    "scooter = Scooter(Vector(100, 0), Vector(0, 1))"
   ]
  },
  {
   "cell_type": "code",
   "execution_count": 5,
   "metadata": {},
   "outputs": [],
   "source": [
    "communicator.spawn_agent(agent, agent_path)\n",
    "communicator.spawn_scooter(scooter, scooter_path)"
   ]
  },
  {
   "cell_type": "code",
   "execution_count": 6,
   "metadata": {},
   "outputs": [],
   "source": [
    "communicator.agent_get_on_scooter(agent.id)"
   ]
  },
  {
   "cell_type": "code",
   "execution_count": 7,
   "metadata": {},
   "outputs": [],
   "source": [
    "communicator.agent_get_off_scooter(agent.id, scooter.id)"
   ]
  },
  {
   "cell_type": "code",
   "execution_count": 9,
   "metadata": {},
   "outputs": [],
   "source": [
    "communicator.agent_step_forward(agent.id, 2)"
   ]
  },
  {
   "cell_type": "code",
   "execution_count": 3,
   "metadata": {},
   "outputs": [],
   "source": [
    "ue_manager_path = '/Game/TrafficSystem/UE_Manager.UE_Manager_C'"
   ]
  },
  {
   "cell_type": "code",
   "execution_count": 4,
   "metadata": {},
   "outputs": [],
   "source": [
    "communicator.spawn_ue_manager(ue_manager_path)"
   ]
  },
  {
   "cell_type": "code",
   "execution_count": 5,
   "metadata": {},
   "outputs": [],
   "source": [
    "communicator.update_objects()"
   ]
  },
  {
   "cell_type": "code",
   "execution_count": null,
   "metadata": {},
   "outputs": [],
   "source": [
    "communicator.get_position_and_direction()"
   ]
  },
  {
   "cell_type": "markdown",
   "metadata": {},
   "source": [
    "## Camera Test"
   ]
  },
  {
   "cell_type": "code",
   "execution_count": null,
   "metadata": {},
   "outputs": [],
   "source": [
    "ucv.get_cameras()"
   ]
  },
  {
   "cell_type": "code",
   "execution_count": null,
   "metadata": {},
   "outputs": [],
   "source": [
    "print(ucv.get_camera_location(1))\n",
    "print(ucv.get_camera_rotation(1))\n",
    "print(ucv.get_camera_fov(1))\n",
    "print(ucv.get_camera_resolution(1))\n",
    "ucv.show_img(ucv.get_image(1, 'lit'))"
   ]
  },
  {
   "cell_type": "code",
   "execution_count": 10,
   "metadata": {},
   "outputs": [],
   "source": [
    "ucv.set_camera_location(1, (0, 0, 0))\n",
    "ucv.set_camera_rotation(1, (0, 0, 0))\n",
    "ucv.set_camera_fov(1, 90)\n",
    "ucv.set_camera_resolution(1, (320, 240))"
   ]
  },
  {
   "cell_type": "code",
   "execution_count": null,
   "metadata": {},
   "outputs": [],
   "source": [
    "print(ucv.get_camera_location(1))\n",
    "print(ucv.get_camera_rotation(1))\n",
    "print(ucv.get_camera_fov(1))\n",
    "print(ucv.get_camera_resolution(1))\n",
    "ucv.show_img(ucv.get_image(1, 'lit'))"
   ]
  },
  {
   "cell_type": "code",
   "execution_count": null,
   "metadata": {},
   "outputs": [],
   "source": [
    "ucv.show_img(ucv.get_image(2, 'depth'))"
   ]
  }
 ],
 "metadata": {
  "kernelspec": {
   "display_name": "unreal",
   "language": "python",
   "name": "python3"
  },
  "language_info": {
   "codemirror_mode": {
    "name": "ipython",
    "version": 3
   },
   "file_extension": ".py",
   "mimetype": "text/x-python",
   "name": "python",
   "nbconvert_exporter": "python",
   "pygments_lexer": "ipython3",
   "version": "3.10.16"
  }
 },
 "nbformat": 4,
 "nbformat_minor": 2
}
