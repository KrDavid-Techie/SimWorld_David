{
 "cells": [
  {
   "cell_type": "markdown",
   "metadata": {},
   "source": [
    "## Import libraries"
   ]
  },
  {
   "cell_type": "code",
   "execution_count": null,
   "metadata": {},
   "outputs": [],
   "source": [
    "import sys\n",
    "import threading\n",
    "from pathlib import Path\n",
    "sys.path.append(str(Path().resolve().parent))\n",
    "from simworld.config import Config\n",
    "from simworld.communicator.communicator import Communicator\n",
    "from simworld.communicator.unrealcv import UnrealCV\n",
    "from simworld.traffic.controller.traffic_controller import TrafficController\n",
    "from simworld.traffic.base.traffic_signal import TrafficSignalState\n",
    "from simworld.llm.a2a_llm import A2ALLM\n",
    "from simworld.map.map import Map\n",
    "from simworld.agent.humanoid import Humanoid\n",
    "from simworld.utils.vector import Vector\n",
    "from simworld.local_planner.local_planner import LocalPlanner"
   ]
  },
  {
   "cell_type": "markdown",
   "metadata": {},
   "source": [
    "## Init"
   ]
  },
  {
   "cell_type": "code",
   "execution_count": null,
   "metadata": {},
   "outputs": [],
   "source": [
    "config = Config()\n",
    "communicator = Communicator(UnrealCV())"
   ]
  },
  {
   "cell_type": "markdown",
   "metadata": {},
   "source": [
    "## World Generation"
   ]
  },
  {
   "cell_type": "code",
   "execution_count": null,
   "metadata": {},
   "outputs": [],
   "source": [
    "communicator.generate_world('E:\\Projects\\SimWorld\\output_test\\progen_world.json', config['citygen.ue_asset_path'], run_time=True)"
   ]
  },
  {
   "cell_type": "markdown",
   "metadata": {},
   "source": [
    "## Traffic Simulation"
   ]
  },
  {
   "cell_type": "code",
   "execution_count": null,
   "metadata": {},
   "outputs": [],
   "source": [
    "traffic_controller = TrafficController(config, 15, 15, \"E:/Projects/SimWorld/output_test/roads.json\", 1, 0.1)\n",
    "traffic_controller.init_communicator(communicator)"
   ]
  },
  {
   "cell_type": "code",
   "execution_count": 5,
   "metadata": {},
   "outputs": [],
   "source": [
    "map = Map(config, traffic_signals=traffic_controller.traffic_signals)\n",
    "humanoid = Humanoid(position=Vector(1700, 1700), direction=Vector(1, 0), map=map, communicator=communicator, config=config)"
   ]
  },
  {
   "cell_type": "code",
   "execution_count": 6,
   "metadata": {},
   "outputs": [],
   "source": [
    "communicator.spawn_agent(humanoid, config['user.model_path'])"
   ]
  },
  {
   "cell_type": "code",
   "execution_count": null,
   "metadata": {},
   "outputs": [],
   "source": [
    "traffic_controller.spawn_objects_in_unreal_engine()\n",
    "communicator.spawn_ue_manager(config['simworld.ue_manager_path'])"
   ]
  },
  {
   "cell_type": "code",
   "execution_count": 8,
   "metadata": {},
   "outputs": [],
   "source": [
    "def update_states():\n",
    "        vehicle_ids = [vehicle.id for vehicle in traffic_controller.vehicles]\n",
    "        pedestrian_ids = [pedestrian.id for pedestrian in traffic_controller.pedestrians]\n",
    "        traffic_signal_ids = [signal.id for signal in traffic_controller.traffic_signals]\n",
    "        humanoid_ids = [humanoid.id]\n",
    "        result = traffic_controller.communicator.get_position_and_direction(vehicle_ids, pedestrian_ids, traffic_signal_ids, humanoid_ids)\n",
    "        for (type, object_id), values in result.items():\n",
    "            if type == 'vehicle':\n",
    "                position, direction = values\n",
    "                traffic_controller.vehicles[object_id].position = position\n",
    "                traffic_controller.vehicles[object_id].direction = direction\n",
    "            elif type == 'pedestrian':\n",
    "                position, direction = values\n",
    "                traffic_controller.pedestrians[object_id].position = position\n",
    "                traffic_controller.pedestrians[object_id].direction = direction\n",
    "            elif type == 'traffic_signal':\n",
    "                is_vehicle_green, is_pedestrian_walk, left_time = values\n",
    "                for signal in traffic_controller.traffic_signals:\n",
    "                    if signal.id == object_id:\n",
    "                        if is_vehicle_green:\n",
    "                            signal.set_state((TrafficSignalState.VEHICLE_GREEN, TrafficSignalState.PEDESTRIAN_RED))\n",
    "                        elif is_pedestrian_walk:\n",
    "                            signal.set_state((TrafficSignalState.VEHICLE_RED, TrafficSignalState.PEDESTRIAN_GREEN))\n",
    "                        else:\n",
    "                            signal.set_state((TrafficSignalState.VEHICLE_RED, TrafficSignalState.PEDESTRIAN_RED))\n",
    "                        signal.set_left_time(left_time)\n",
    "                        break\n",
    "            elif type == 'humanoid':\n",
    "                pos, dir = values\n",
    "                humanoid.position = pos\n",
    "                humanoid.direction = dir"
   ]
  },
  {
   "cell_type": "code",
   "execution_count": 9,
   "metadata": {},
   "outputs": [],
   "source": [
    "exit_event = threading.Event()"
   ]
  },
  {
   "cell_type": "code",
   "execution_count": null,
   "metadata": {},
   "outputs": [],
   "source": [
    "t = threading.Thread(target=traffic_controller.simulation, args=(update_states, exit_event))\n",
    "t.start()"
   ]
  },
  {
   "cell_type": "markdown",
   "metadata": {},
   "source": [
    "## Local Planner"
   ]
  },
  {
   "cell_type": "code",
   "execution_count": 11,
   "metadata": {},
   "outputs": [],
   "source": [
    "import os\n",
    "os.environ['OPENAI_API_KEY'] = '<your_openai_api_key>'"
   ]
  },
  {
   "cell_type": "code",
   "execution_count": null,
   "metadata": {},
   "outputs": [],
   "source": [
    "llm = A2ALLM(model_name='gpt-4o', provider='openai')\n",
    "map.initialize_map_from_file(roads_file='E:/Projects/SimWorld/output_test/roads.json')  # use default map"
   ]
  },
  {
   "cell_type": "code",
   "execution_count": 13,
   "metadata": {},
   "outputs": [],
   "source": [
    "local_planner = LocalPlanner(agent=humanoid, model=llm, rule_based=False)"
   ]
  },
  {
   "cell_type": "code",
   "execution_count": 14,
   "metadata": {},
   "outputs": [],
   "source": [
    "communicator.spawn_object('GEN_BP_Box_1_C', '/Game/InteractableAsset/Box/BP_Interactable_Box.BP_Interactable_Box_C', (1700, -1700, 20), (0, 0, 0))"
   ]
  },
  {
   "cell_type": "code",
   "execution_count": null,
   "metadata": {},
   "outputs": [],
   "source": [
    "plan = 'Go to (1700, -1700) and pick up GEN_BP_Box_1_C.'\n",
    "action_space = local_planner.parse(plan)"
   ]
  },
  {
   "cell_type": "code",
   "execution_count": null,
   "metadata": {},
   "outputs": [],
   "source": [
    "### Test executor\n",
    "local_planner.execute(action_space)"
   ]
  },
  {
   "cell_type": "code",
   "execution_count": null,
   "metadata": {},
   "outputs": [],
   "source": [
    "exit_event.set()\n",
    "t.join()"
   ]
  },
  {
   "cell_type": "code",
   "execution_count": 3,
   "metadata": {},
   "outputs": [],
   "source": [
    "communicator.disconnect()"
   ]
  }
 ],
 "metadata": {
  "kernelspec": {
   "display_name": "simworld",
   "language": "python",
   "name": "python3"
  },
  "language_info": {
   "codemirror_mode": {
    "name": "ipython",
    "version": 3
   },
   "file_extension": ".py",
   "mimetype": "text/x-python",
   "name": "python",
   "nbconvert_exporter": "python",
   "pygments_lexer": "ipython3",
   "version": "3.10.18"
  }
 },
 "nbformat": 4,
 "nbformat_minor": 2
}
