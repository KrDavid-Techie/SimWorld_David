{
 "cells": [
  {
   "cell_type": "code",
   "execution_count": null,
   "id": "8f61e730",
   "metadata": {},
   "outputs": [],
   "source": [
    "import sys\n",
    "from pathlib import Path\n",
    "sys.path.append(str(Path().resolve().parent))\n",
    "from simworld.traffic.manager.user_manager import UserManager\n",
    "from simworld.config import Config\n",
    "from simworld.utils.logger import Logger"
   ]
  },
  {
   "cell_type": "code",
   "execution_count": null,
   "id": "12a3c058",
   "metadata": {},
   "outputs": [],
   "source": [
    "config = Config()\n",
    "Logger.configure(config['simworld.enable_logging'], config['simworld.enable_console_logging'])\n",
    "user_manager = UserManager(3, config)"
   ]
  },
  {
   "cell_type": "code",
   "execution_count": null,
   "id": "bd3a73bd",
   "metadata": {},
   "outputs": [],
   "source": [
    "# !pre-commit install"
   ]
  },
  {
   "cell_type": "code",
   "execution_count": null,
   "id": "2c985b3d",
   "metadata": {},
   "outputs": [],
   "source": [
    "user_manager.spawn_agent()\n",
    "user_manager.spawn_manager()"
   ]
  },
  {
   "cell_type": "code",
   "execution_count": null,
   "id": "75dfc21e",
   "metadata": {},
   "outputs": [],
   "source": [
    "user_manager.run()"
   ]
  }
 ],
 "metadata": {
  "kernelspec": {
   "display_name": "citynav",
   "language": "python",
   "name": "python3"
  },
  "language_info": {
   "codemirror_mode": {
    "name": "ipython",
    "version": 3
   },
   "file_extension": ".py",
   "mimetype": "text/x-python",
   "name": "python",
   "nbconvert_exporter": "python",
   "pygments_lexer": "ipython3",
   "version": "3.10.16"
  }
 },
 "nbformat": 4,
 "nbformat_minor": 5
}
