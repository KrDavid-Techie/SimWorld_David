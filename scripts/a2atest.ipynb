{
 "cells": [
  {
   "cell_type": "code",
   "execution_count": null,
   "id": "8f61e730",
   "metadata": {},
   "outputs": [
    {
     "ename": "ModuleNotFoundError",
     "evalue": "No module named 'SimWorld'",
     "output_type": "error",
     "traceback": [
      "\u001b[1;31m---------------------------------------------------------------------------\u001b[0m",
      "\u001b[1;31mModuleNotFoundError\u001b[0m                       Traceback (most recent call last)",
      "Cell \u001b[1;32mIn[1], line 4\u001b[0m\n\u001b[0;32m      2\u001b[0m \u001b[38;5;28;01mfrom\u001b[39;00m \u001b[38;5;21;01mpathlib\u001b[39;00m \u001b[38;5;28;01mimport\u001b[39;00m Path\n\u001b[0;32m      3\u001b[0m sys\u001b[38;5;241m.\u001b[39mpath\u001b[38;5;241m.\u001b[39mappend(\u001b[38;5;28mstr\u001b[39m(Path()\u001b[38;5;241m.\u001b[39mresolve()\u001b[38;5;241m.\u001b[39mparent))\n\u001b[1;32m----> 4\u001b[0m \u001b[38;5;28;01mfrom\u001b[39;00m \u001b[38;5;21;01mSimWorld\u001b[39;00m\u001b[38;5;21;01m.\u001b[39;00m\u001b[38;5;21;01mscripts\u001b[39;00m\u001b[38;5;21;01m.\u001b[39;00m\u001b[38;5;21;01muser_manager\u001b[39;00m \u001b[38;5;28;01mimport\u001b[39;00m UserManager\n\u001b[0;32m      5\u001b[0m \u001b[38;5;28;01mfrom\u001b[39;00m \u001b[38;5;21;01msimworld\u001b[39;00m\u001b[38;5;21;01m.\u001b[39;00m\u001b[38;5;21;01mconfig\u001b[39;00m \u001b[38;5;28;01mimport\u001b[39;00m Config\n\u001b[0;32m      6\u001b[0m \u001b[38;5;28;01mfrom\u001b[39;00m \u001b[38;5;21;01msimworld\u001b[39;00m\u001b[38;5;21;01m.\u001b[39;00m\u001b[38;5;21;01mutils\u001b[39;00m\u001b[38;5;21;01m.\u001b[39;00m\u001b[38;5;21;01mlogger\u001b[39;00m \u001b[38;5;28;01mimport\u001b[39;00m Logger\n",
      "\u001b[1;31mModuleNotFoundError\u001b[0m: No module named 'SimWorld'"
     ]
    }
   ],
   "source": [
    "import sys\n",
    "from pathlib import Path\n",
    "sys.path.append(str(Path().resolve().parent))\n",
    "from scripts.user_manager import UserManager\n",
    "from simworld.config import Config\n",
    "from simworld.utils.logger import Logger"
   ]
  },
  {
   "cell_type": "code",
   "execution_count": null,
   "id": "12a3c058",
   "metadata": {},
   "outputs": [],
   "source": [
    "config = Config()\n",
    "Logger.configure(config['simworld.enable_logging'], config['simworld.enable_console_logging'])\n",
    "user_manager = UserManager(3, config)"
   ]
  },
  {
   "cell_type": "code",
   "execution_count": null,
   "id": "bd3a73bd",
   "metadata": {},
   "outputs": [],
   "source": [
    "# !pre-commit install"
   ]
  },
  {
   "cell_type": "code",
   "execution_count": null,
   "id": "2c985b3d",
   "metadata": {},
   "outputs": [],
   "source": [
    "user_manager.spawn_agent()\n",
    "user_manager.spawn_manager()"
   ]
  },
  {
   "cell_type": "code",
   "execution_count": null,
   "id": "75dfc21e",
   "metadata": {},
   "outputs": [],
   "source": [
    "user_manager.run()"
   ]
  }
 ],
 "metadata": {
  "kernelspec": {
   "display_name": "citynav",
   "language": "python",
   "name": "python3"
  },
  "language_info": {
   "codemirror_mode": {
    "name": "ipython",
    "version": 3
   },
   "file_extension": ".py",
   "mimetype": "text/x-python",
   "name": "python",
   "nbconvert_exporter": "python",
   "pygments_lexer": "ipython3",
   "version": "3.10.16"
  }
 },
 "nbformat": 4,
 "nbformat_minor": 5
}
