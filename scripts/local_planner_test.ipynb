{
 "cells": [
  {
   "cell_type": "code",
   "execution_count": 1,
   "metadata": {},
   "outputs": [],
   "source": [
    "### This script is used to test local planner module."
   ]
  },
  {
   "cell_type": "code",
   "execution_count": null,
   "metadata": {},
   "outputs": [],
   "source": [
    "import sys\n",
    "import os\n",
    "from pathlib import Path\n",
    "sys.path.append(str(Path().resolve().parent))\n",
    "from simworld.communicator.unrealcv import UnrealCV\n",
    "from simworld.communicator.communicator import Communicator\n",
    "from simworld.llm.a2a_llm import A2ALLM\n",
    "from simworld.agent.humanoid import Humanoid\n",
    "from simworld.utils.vector import Vector\n",
    "from simworld.map.map import Map\n",
    "from simworld.config.config_loader import Config\n",
    "from simworld.local_planner.local_planner import LocalPlanner"
   ]
  },
  {
   "cell_type": "code",
   "execution_count": 2,
   "metadata": {},
   "outputs": [],
   "source": [
    "os.environ['OPENAI_API_KEY'] = '<your_api_key>'"
   ]
  },
  {
   "cell_type": "code",
   "execution_count": 3,
   "metadata": {},
   "outputs": [],
   "source": [
    "config = Config()"
   ]
  },
  {
   "cell_type": "code",
   "execution_count": null,
   "metadata": {},
   "outputs": [],
   "source": [
    "# Initialize the LLM model\n",
    "llm = A2ALLM(model_name='gpt-4o-mini', provider='openai')"
   ]
  },
  {
   "cell_type": "code",
   "execution_count": null,
   "metadata": {},
   "outputs": [],
   "source": [
    "# Initialize the map\n",
    "map = Map(config)\n",
    "map.initialize_map_from_file()  # use default map\n",
    "# Initialize the communicator\n",
    "communicator = Communicator(UnrealCV())"
   ]
  },
  {
   "cell_type": "code",
   "execution_count": 7,
   "metadata": {},
   "outputs": [],
   "source": [
    "# Initialize the humanoid agent\n",
    "humanoid = Humanoid(position=Vector(0, 0), direction=Vector(1, 0), map=map, communicator=communicator, config=config)"
   ]
  },
  {
   "cell_type": "code",
   "execution_count": 8,
   "metadata": {},
   "outputs": [],
   "source": [
    "# Initialize the local planner\n",
    "local_planner = LocalPlanner(agent=humanoid, model=llm, rule_based=False)"
   ]
  },
  {
   "cell_type": "code",
   "execution_count": null,
   "metadata": {},
   "outputs": [],
   "source": [
    "### Test parser\n",
    "plan = 'Go to (1700, -1700) and pick up GEN_BP_Bottle_1_C.'\n",
    "action_space = local_planner.parse(plan)"
   ]
  },
  {
   "cell_type": "code",
   "execution_count": 10,
   "metadata": {},
   "outputs": [],
   "source": [
    "communicator.spawn_agent(humanoid, config['user.model_path'])"
   ]
  },
  {
   "cell_type": "code",
   "execution_count": 11,
   "metadata": {},
   "outputs": [],
   "source": [
    "communicator.spawn_ue_manager(config['simworld.ue_manager_path'])"
   ]
  },
  {
   "cell_type": "code",
   "execution_count": 12,
   "metadata": {},
   "outputs": [],
   "source": [
    "# Update humanoid position and direction in a separate thread\n",
    "import threading\n",
    "import time\n",
    "\n",
    "def update(exit_event):\n",
    "    while not exit_event.is_set():\n",
    "        humanoid_ids = [humanoid.id]\n",
    "        result = communicator.get_position_and_direction(humanoid_ids=humanoid_ids)\n",
    "        for idx in humanoid_ids:\n",
    "            pos, dir = result[('humanoid', idx)]\n",
    "            humanoid.position = pos\n",
    "            humanoid.direction = dir\n",
    "        time.sleep(0.1)\n",
    "\n",
    "exit_event = threading.Event()\n",
    "t = threading.Thread(target=update, args=(exit_event,))\n",
    "t.start()"
   ]
  },
  {
   "cell_type": "code",
   "execution_count": null,
   "metadata": {},
   "outputs": [],
   "source": [
    "### Test executor\n",
    "local_planner.execute(action_space)"
   ]
  },
  {
   "cell_type": "code",
   "execution_count": 14,
   "metadata": {},
   "outputs": [],
   "source": [
    "exit_event.set()\n",
    "t.join()"
   ]
  }
 ],
 "metadata": {
  "kernelspec": {
   "display_name": "unreal",
   "language": "python",
   "name": "python3"
  },
  "language_info": {
   "codemirror_mode": {
    "name": "ipython",
    "version": 3
   },
   "file_extension": ".py",
   "mimetype": "text/x-python",
   "name": "python",
   "nbconvert_exporter": "python",
   "pygments_lexer": "ipython3",
   "version": "3.10.16"
  }
 },
 "nbformat": 4,
 "nbformat_minor": 2
}
