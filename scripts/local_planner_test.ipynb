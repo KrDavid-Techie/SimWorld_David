{
 "cells": [
  {
   "cell_type": "code",
   "execution_count": 6,
   "metadata": {},
   "outputs": [],
   "source": [
    "### This script is used to test local planner module."
   ]
  },
  {
   "cell_type": "code",
   "execution_count": null,
   "metadata": {},
   "outputs": [],
   "source": [
    "import sys\n",
    "import os\n",
    "from pathlib import Path\n",
    "sys.path.append(str(Path().resolve().parent))\n",
    "from simworld.communicator.unrealcv import UnrealCV\n",
    "from simworld.communicator.communicator import Communicator\n",
    "from simworld.llm.a2a_llm import A2ALLM\n",
    "from simworld.agent.humanoid import Humanoid\n",
    "from simworld.utils.vector import Vector\n",
    "from simworld.map.map import Map\n",
    "from simworld.config.config_loader import Config\n",
    "from simworld.local_planner.local_planner import LocalPlanner"
   ]
  },
  {
   "cell_type": "code",
   "execution_count": 2,
   "metadata": {},
   "outputs": [],
   "source": [
    "os.environ['OPENAI_API_KEY'] = '<your_openai_api_key>'"
   ]
  },
  {
   "cell_type": "code",
   "execution_count": 3,
   "metadata": {},
   "outputs": [],
   "source": [
    "config = Config()"
   ]
  },
  {
   "cell_type": "code",
   "execution_count": null,
   "metadata": {},
   "outputs": [],
   "source": [
    "# Initialize the communicator\n",
    "communicator = Communicator(UnrealCV())"
   ]
  },
  {
   "cell_type": "code",
   "execution_count": null,
   "metadata": {},
   "outputs": [],
   "source": [
    "# Initialize the LLM model\n",
    "llm = A2ALLM(model_name='gpt-4o-mini', provider='openai')"
   ]
  },
  {
   "cell_type": "code",
   "execution_count": 12,
   "metadata": {},
   "outputs": [],
   "source": [
    "# Initialize the map\n",
    "map = Map(config)\n",
    "map.initialize_map_from_file(roads_file='E:/Projects/SimWorld/output_test/roads.json') # use default map"
   ]
  },
  {
   "cell_type": "code",
   "execution_count": 13,
   "metadata": {},
   "outputs": [],
   "source": [
    "# Initialize the humanoid agent\n",
    "humanoid = Humanoid(position=Vector(1700, 1700), direction=Vector(1, 0), map=map, communicator=communicator, config=config)"
   ]
  },
  {
   "cell_type": "code",
   "execution_count": 14,
   "metadata": {},
   "outputs": [],
   "source": [
    "# Initialize the local planner\n",
    "local_planner = LocalPlanner(agent=humanoid, model=llm, rule_based=True)"
   ]
  },
  {
   "cell_type": "code",
   "execution_count": 15,
   "metadata": {},
   "outputs": [],
   "source": [
    "communicator.spawn_object('GEN_BP_Box_1_C', '/Game/InteractableAsset/Box/BP_Interactable_Box.BP_Interactable_Box_C', (1700, -1700, 20), (0, 0, 0))"
   ]
  },
  {
   "cell_type": "code",
   "execution_count": null,
   "metadata": {},
   "outputs": [],
   "source": [
    "### Test parser\n",
    "plan = 'Go to (1700, -1700) and pick up GEN_BP_Box_1_C.'\n",
    "action_space = local_planner.parse(plan)"
   ]
  },
  {
   "cell_type": "code",
   "execution_count": 17,
   "metadata": {},
   "outputs": [],
   "source": [
    "communicator.spawn_agent(humanoid, config['user.model_path'])"
   ]
  },
  {
   "cell_type": "code",
   "execution_count": 18,
   "metadata": {},
   "outputs": [],
   "source": [
    "communicator.spawn_ue_manager(config['simworld.ue_manager_path'])"
   ]
  },
  {
   "cell_type": "code",
   "execution_count": 19,
   "metadata": {},
   "outputs": [],
   "source": [
    "# Update humanoid position and direction in a separate thread\n",
    "import threading\n",
    "import time\n",
    "\n",
    "def update(exit_event):\n",
    "    while not exit_event.is_set():\n",
    "        humanoid_ids = [humanoid.id]\n",
    "        result = communicator.get_position_and_direction(humanoid_ids=humanoid_ids)\n",
    "        for idx in humanoid_ids:\n",
    "            pos, dir = result[('humanoid', idx)]\n",
    "            humanoid.position = pos\n",
    "            humanoid.direction = dir\n",
    "        time.sleep(0.1)\n",
    "\n",
    "exit_event = threading.Event()\n",
    "t = threading.Thread(target=update, args=(exit_event,))\n",
    "t.start()"
   ]
  },
  {
   "cell_type": "code",
   "execution_count": null,
   "metadata": {},
   "outputs": [],
   "source": [
    "### Test executor\n",
    "local_planner.execute(action_space)"
   ]
  },
  {
   "cell_type": "code",
   "execution_count": 21,
   "metadata": {},
   "outputs": [],
   "source": [
    "communicator.humanoid_pick_up_object(humanoid.id, 'GEN_BP_Box_1_C.')"
   ]
  },
  {
   "cell_type": "code",
   "execution_count": 14,
   "metadata": {},
   "outputs": [],
   "source": [
    "exit_event.set()\n",
    "t.join()"
   ]
  },
  {
   "cell_type": "code",
   "execution_count": null,
   "metadata": {},
   "outputs": [],
   "source": [
    "communicator.clear_env()"
   ]
  }
 ],
 "metadata": {
  "kernelspec": {
   "display_name": "simworld",
   "language": "python",
   "name": "python3"
  },
  "language_info": {
   "codemirror_mode": {
    "name": "ipython",
    "version": 3
   },
   "file_extension": ".py",
   "mimetype": "text/x-python",
   "name": "python",
   "nbconvert_exporter": "python",
   "pygments_lexer": "ipython3",
   "version": "3.10.18"
  }
 },
 "nbformat": 4,
 "nbformat_minor": 2
}
