{
 "cells": [
  {
   "cell_type": "code",
   "execution_count": 1,
   "metadata": {},
   "outputs": [],
   "source": [
    "import sys\n",
    "from pathlib import Path\n",
    "sys.path.append(str(Path().resolve().parent))\n",
    "from simworld.config import Config\n",
    "from simworld.utils.logger import Logger\n",
    "from simworld.communicator import Communicator, UnrealCV"
   ]
  },
  {
   "cell_type": "code",
   "execution_count": 2,
   "metadata": {},
   "outputs": [],
   "source": [
    "config = Config('D:\\Projects\\SimWorld\\simworld\\config\\jiawei_config.yaml')\n",
    "Logger.configure(config['simworld.enable_logging'], config['simworld.enable_console_logging'])"
   ]
  },
  {
   "cell_type": "code",
   "execution_count": null,
   "metadata": {},
   "outputs": [],
   "source": [
    "communicator = Communicator(UnrealCV())\n",
    "communicator.generate_world(config['citygen.world_json'], config['citygen.ue_asset_path'])"
   ]
  },
  {
   "cell_type": "code",
   "execution_count": 5,
   "metadata": {},
   "outputs": [],
   "source": [
    "communicator.clear_env()"
   ]
  },
  {
   "cell_type": "code",
   "execution_count": null,
   "metadata": {},
   "outputs": [],
   "source": [
    "communicator.generate_world(config['citygen.world_json'], config['citygen.ue_asset_path'])"
   ]
  }
 ],
 "metadata": {
  "kernelspec": {
   "display_name": "unreal",
   "language": "python",
   "name": "python3"
  },
  "language_info": {
   "codemirror_mode": {
    "name": "ipython",
    "version": 3
   },
   "file_extension": ".py",
   "mimetype": "text/x-python",
   "name": "python",
   "nbconvert_exporter": "python",
   "pygments_lexer": "ipython3",
   "version": "3.10.16"
  }
 },
 "nbformat": 4,
 "nbformat_minor": 2
}
